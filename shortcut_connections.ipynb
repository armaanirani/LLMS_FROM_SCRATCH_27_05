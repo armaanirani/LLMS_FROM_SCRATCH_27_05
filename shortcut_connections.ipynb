{
 "cells": [
  {
   "cell_type": "markdown",
   "id": "83f0aaa3",
   "metadata": {},
   "source": [
    "### GPT architecture part 4: Shortcut connections"
   ]
  },
  {
   "cell_type": "code",
   "execution_count": 2,
   "id": "4becbf65",
   "metadata": {},
   "outputs": [],
   "source": [
    "import torch\n",
    "import torch.nn as nn\n",
    "\n",
    "class GELU(nn.Module):\n",
    "    def __init__(self):\n",
    "        super().__init__()\n",
    "        \n",
    "    def forward(self, x):\n",
    "        return 0.5 * x * (1 + torch.tanh(torch.sqrt(torch.tensor(2.0 / torch.pi)) * (x + 0.044715 * torch.pow(x, 3))))"
   ]
  },
  {
   "cell_type": "code",
   "execution_count": 3,
   "id": "0e2e36e0",
   "metadata": {},
   "outputs": [],
   "source": [
    "class ExampleDeepNeuralNetwork(nn.Module):\n",
    "    def __init__(self, layer_sizes, use_shortcut):\n",
    "        super().__init__()\n",
    "        self.use_shortcut = use_shortcut\n",
    "        self.layers = nn.ModuleList([\n",
    "            nn.Sequential(nn.Linear(layer_sizes[0], layer_sizes[1]), GELU()),\n",
    "            nn.Sequential(nn.Linear(layer_sizes[1], layer_sizes[2]), GELU()),\n",
    "            nn.Sequential(nn.Linear(layer_sizes[2], layer_sizes[3]), GELU()),\n",
    "            nn.Sequential(nn.Linear(layer_sizes[3], layer_sizes[4]), GELU()),\n",
    "            nn.Sequential(nn.Linear(layer_sizes[4], layer_sizes[5]), GELU())\n",
    "        ])\n",
    "    \n",
    "    def forward(self, x):\n",
    "        for layer in self.layers:\n",
    "            # Compute the output of the current layer\n",
    "            layer_output = layer(x)\n",
    "            # Check if shortcut can be applied\n",
    "            if self.use_shortcut and x.shape == layer_output.shape:\n",
    "                x = x + layer_output\n",
    "            else:\n",
    "                x = layer_output\n",
    "        return x"
   ]
  },
  {
   "cell_type": "code",
   "execution_count": 4,
   "id": "090dbe33",
   "metadata": {},
   "outputs": [],
   "source": [
    "### This code implements a deep nn with 5 layers, each consisting of a Linear layer and a GELU activation function.\n",
    "### In te forward pass, we iteratively pass the input through the layers and optionally add the shortcut connections\n",
    "### if the self.use_shortcut is set to True."
   ]
  },
  {
   "cell_type": "code",
   "execution_count": null,
   "id": "26ab305b",
   "metadata": {},
   "outputs": [],
   "source": [
    "### Let us use this code to first initialize a neural network without shortcut connections. Here, each layer will be initialized\n",
    "### such "
   ]
  },
  {
   "cell_type": "code",
   "execution_count": 5,
   "id": "61773b32",
   "metadata": {},
   "outputs": [],
   "source": [
    "layer_sizes = [3, 3, 3, 3, 3, 1]\n",
    "sample_input = torch.tensor([[1., 0., -1.]])\n",
    "torch.manual_seed(123)\n",
    "model_without_shortcut = ExampleDeepNeuralNetwork(layer_sizes, use_shortcut=False)"
   ]
  },
  {
   "cell_type": "code",
   "execution_count": 6,
   "id": "54cc3b0d",
   "metadata": {},
   "outputs": [],
   "source": [
    "### Next we implement a function that computes the gradients in the model's backward pass"
   ]
  },
  {
   "cell_type": "code",
   "execution_count": 7,
   "id": "43415e0d",
   "metadata": {},
   "outputs": [],
   "source": [
    "def print_gradients(model, x):\n",
    "    # Forward pass\n",
    "    output = model(x)\n",
    "    target = torch.tensor([[0.]])\n",
    "    \n",
    "    # Calculate loss based on how close the target and outputs are\n",
    "    loss = nn.MSELoss()\n",
    "    loss = loss(output, target)\n",
    "    \n",
    "    # Backward pass to calculate the gradients\n",
    "    loss.backward()\n",
    "    \n",
    "    for name, param in model.named_parameters():\n",
    "        if 'weight' in name:\n",
    "            # Print the mean absolute gradient of the weights\n",
    "            print(f\"{name} has gradient mean of {param.grad.abs().mean().item()}\")"
   ]
  },
  {
   "cell_type": "code",
   "execution_count": 8,
   "id": "6ece938b",
   "metadata": {},
   "outputs": [],
   "source": [
    "### In the preceding code, we specify a loss function that computes how close the model output and a user-specified target\n",
    "### Then when calling loss.backward(), pytorch computes the loss gradient for each layer in the model.\n",
    "### We can iterate through the weight parameters via model.names_parameters().\n",
    "### Suppose we have a 3x3 weight parameter matrix for a given layer.\n",
    "### In that case, this layer will have 3x3 gradient values and we print the mean absolute gradient of these 3x3 gradient values\n",
    "### to obtain a single gradient value per layer to compare the gradients between layers more easily."
   ]
  },
  {
   "cell_type": "code",
   "execution_count": 9,
   "id": "c54e1ee0",
   "metadata": {},
   "outputs": [
    {
     "name": "stdout",
     "output_type": "stream",
     "text": [
      "layers.0.0.weight has gradient mean of 0.00020173587836325169\n",
      "layers.1.0.weight has gradient mean of 0.0001201116101583466\n",
      "layers.2.0.weight has gradient mean of 0.0007152041653171182\n",
      "layers.3.0.weight has gradient mean of 0.001398873864673078\n",
      "layers.4.0.weight has gradient mean of 0.005049646366387606\n"
     ]
    }
   ],
   "source": [
    "print_gradients(model_without_shortcut, sample_input)"
   ]
  },
  {
   "cell_type": "code",
   "execution_count": 10,
   "id": "3ff654cf",
   "metadata": {},
   "outputs": [],
   "source": [
    "### Lets now initiate a model with skip connections and see how it compares."
   ]
  },
  {
   "cell_type": "code",
   "execution_count": 12,
   "id": "94e4ba12",
   "metadata": {},
   "outputs": [
    {
     "name": "stdout",
     "output_type": "stream",
     "text": [
      "layers.0.0.weight has gradient mean of 0.22169792652130127\n",
      "layers.1.0.weight has gradient mean of 0.20694106817245483\n",
      "layers.2.0.weight has gradient mean of 0.32896995544433594\n",
      "layers.3.0.weight has gradient mean of 0.2665732502937317\n",
      "layers.4.0.weight has gradient mean of 1.3258541822433472\n"
     ]
    }
   ],
   "source": [
    "torch.manual_seed(123)\n",
    "model_with_shortcut = ExampleDeepNeuralNetwork(layer_sizes, use_shortcut=True)\n",
    "print_gradients(model_with_shortcut, sample_input)"
   ]
  },
  {
   "cell_type": "code",
   "execution_count": 13,
   "id": "539ef17f",
   "metadata": {},
   "outputs": [],
   "source": [
    "### As we can see, based on the output, the last layer still has a larger gradient than the other layers.\n",
    "### However, the gradient value stabilizes as we progress towards the first layer and does not shrink to a vanishingly small value."
   ]
  },
  {
   "cell_type": "code",
   "execution_count": 14,
   "id": "0a54fc1a",
   "metadata": {},
   "outputs": [],
   "source": [
    "### In conclusion, shortcut connections are important for overcoming the limitations posed by the vanishing gradient problem \n",
    "### in deep nn.\n",
    "### They are a core building block of very large models such as LLMs and they will help facilitate more effective training by \n",
    "### ensuring consistent gradient flow across layers when we train the GPT model."
   ]
  },
  {
   "cell_type": "code",
   "execution_count": null,
   "id": "7b6fa912",
   "metadata": {},
   "outputs": [],
   "source": []
  }
 ],
 "metadata": {
  "kernelspec": {
   "display_name": "venv",
   "language": "python",
   "name": "python3"
  },
  "language_info": {
   "codemirror_mode": {
    "name": "ipython",
    "version": 3
   },
   "file_extension": ".py",
   "mimetype": "text/x-python",
   "name": "python",
   "nbconvert_exporter": "python",
   "pygments_lexer": "ipython3",
   "version": "3.12.0"
  }
 },
 "nbformat": 4,
 "nbformat_minor": 5
}
