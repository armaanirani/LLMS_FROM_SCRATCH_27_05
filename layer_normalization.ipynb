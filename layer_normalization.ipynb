{
 "cells": [
  {
   "cell_type": "markdown",
   "id": "a79b5bf6",
   "metadata": {},
   "source": [
    "### GPT architecture part 2: Layer Normalization"
   ]
  },
  {
   "cell_type": "code",
   "execution_count": 1,
   "id": "816f67dc",
   "metadata": {},
   "outputs": [
    {
     "name": "stdout",
     "output_type": "stream",
     "text": [
      "tensor([[0.2260, 0.3470, 0.0000, 0.2216, 0.0000, 0.0000],\n",
      "        [0.2133, 0.2394, 0.0000, 0.5198, 0.3297, 0.0000]],\n",
      "       grad_fn=<ReluBackward0>)\n"
     ]
    }
   ],
   "source": [
    "import torch\n",
    "import torch.nn as nn\n",
    "\n",
    "torch.manual_seed(123)\n",
    "batch_example = torch.randn(2, 5)\n",
    "layer = nn.Sequential(nn.Linear(5, 6), nn.ReLU())\n",
    "out = layer(batch_example)\n",
    "print(out)"
   ]
  },
  {
   "cell_type": "code",
   "execution_count": 2,
   "id": "b7761d7f",
   "metadata": {},
   "outputs": [],
   "source": [
    "### The neural network layer we have coded consists of a linear layer followed by a non linear activation function."
   ]
  },
  {
   "cell_type": "code",
   "execution_count": 3,
   "id": "22e4b12b",
   "metadata": {},
   "outputs": [
    {
     "name": "stdout",
     "output_type": "stream",
     "text": [
      "Mean:\n",
      " tensor([[0.1324],\n",
      "        [0.2170]], grad_fn=<MeanBackward1>)\n",
      "Variance:\n",
      " tensor([[0.0231],\n",
      "        [0.0398]], grad_fn=<VarBackward0>)\n"
     ]
    }
   ],
   "source": [
    "mean = out.mean(dim=-1, keepdim=True)\n",
    "var = out.var(dim=-1, keepdim=True)\n",
    "print(\"Mean:\\n\", mean)\n",
    "print(\"Variance:\\n\", var)"
   ]
  },
  {
   "cell_type": "code",
   "execution_count": 4,
   "id": "9823685b",
   "metadata": {},
   "outputs": [],
   "source": [
    "### The first row in the mean tensor above contains the mean value for the first input row, and the second output row contains\n",
    "### The mean for the second row.\n",
    "### Using keepdim=True in operations like mean or variance calculation ensures that the output tensor retains the same number of \n",
    "### dimensions as the input tensor, even though the operation reduces the tensor along the dimension specified via dim.\n",
    "### For instance, without keepdim=True, the returned mean tensor would be a 2-dimensional vector [0.1324, 0.2170] instead of a 2x1-\n",
    "### dimensional matrix [[0.1324], [0.2170]]"
   ]
  },
  {
   "cell_type": "code",
   "execution_count": 5,
   "id": "a79cc426",
   "metadata": {},
   "outputs": [
    {
     "name": "stdout",
     "output_type": "stream",
     "text": [
      "Normalized layer outputs:\n",
      " tensor([[ 0.6159,  1.4126, -0.8719,  0.5872, -0.8719, -0.8719],\n",
      "        [-0.0189,  0.1121, -1.0876,  1.5173,  0.5647, -1.0876]],\n",
      "       grad_fn=<DivBackward0>)\n",
      "Mean:\n",
      " tensor([[9.9341e-09],\n",
      "        [0.0000e+00]], grad_fn=<MeanBackward1>)\n",
      "Variance:\n",
      " tensor([[1.0000],\n",
      "        [1.0000]], grad_fn=<VarBackward0>)\n"
     ]
    }
   ],
   "source": [
    "out_norm = (out - mean) / torch.sqrt(var)\n",
    "mean = out_norm.mean(dim=-1, keepdim=True)\n",
    "var = out_norm.var(dim=-1, keepdim=True)\n",
    "print(\"Normalized layer outputs:\\n\", out_norm)\n",
    "print(\"Mean:\\n\", mean)\n",
    "print(\"Variance:\\n\", var)"
   ]
  },
  {
   "cell_type": "code",
   "execution_count": 6,
   "id": "b83df9fd",
   "metadata": {},
   "outputs": [
    {
     "name": "stdout",
     "output_type": "stream",
     "text": [
      "Mean:\n",
      " tensor([[    0.0000],\n",
      "        [    0.0000]], grad_fn=<MeanBackward1>)\n",
      "Variance:\n",
      " tensor([[1.0000],\n",
      "        [1.0000]], grad_fn=<VarBackward0>)\n"
     ]
    }
   ],
   "source": [
    "torch.set_printoptions(sci_mode=False)\n",
    "print(\"Mean:\\n\", mean)\n",
    "print(\"Variance:\\n\", var)"
   ]
  },
  {
   "cell_type": "code",
   "execution_count": 11,
   "id": "cfc68579",
   "metadata": {},
   "outputs": [],
   "source": [
    "class LayerNorm(nn.Module):\n",
    "    def __init__(self, emb_dim):\n",
    "        super().__init__()\n",
    "        self.eps = 1e-5\n",
    "        self.scale = nn.Parameter(torch.ones(emb_dim))\n",
    "        self.shift = nn.Parameter(torch.zeros(emb_dim))\n",
    "    \n",
    "    def forward(self, x):\n",
    "        mean = x.mean(dim=-1, keepdim=True)\n",
    "        var = x.var(dim=-1, keepdim=True, unbiased=False)\n",
    "        norm_x = (x - mean) / torch.sqrt(var + self.eps)\n",
    "        return self.scale * norm_x + self.shift"
   ]
  },
  {
   "cell_type": "code",
   "execution_count": 12,
   "id": "9a2b436e",
   "metadata": {},
   "outputs": [],
   "source": [
    "### eps is a small constant that is added to the variance to prevent division by zero during normalization.\n",
    "### The scale and shift are two trainable parameters (of the same dimension as the input) that the LLM automatically adjusts \n",
    "### during training if it is determined that doing so would improve the model's performance on its training task.\n",
    "### This allows the model to learn appropriate scaling and shifting that best sut the data it is processing."
   ]
  },
  {
   "cell_type": "code",
   "execution_count": 13,
   "id": "02e0597e",
   "metadata": {},
   "outputs": [],
   "source": [
    "### In our variance calculation method, we have opted for an implementation detail by setting unbiased=False.\n",
    "### In the variance calculation, we divide by the number of inputs 'n' in the variance formula.\n",
    "### This approach does not apply Bessel's correction, which typically uses n-1 instead of n in the denominator to adjust for bias\n",
    "### in sample variance estimation.\n",
    "### For large scale LLMs where the embedding dimension 'n' is significantly large, the difference between using 'n' and 'n-1' \n",
    "### is practically negligible.\n",
    "### We chose this approach to ensure compatibility with GPT-2 model's normalization layers because it reflects tensorflow's\n",
    "### default behavior, which was used to implement the original GPT-2 model."
   ]
  },
  {
   "cell_type": "code",
   "execution_count": 14,
   "id": "cbc835bc",
   "metadata": {},
   "outputs": [
    {
     "name": "stdout",
     "output_type": "stream",
     "text": [
      "Mean:\n",
      " tensor([[    -0.0000],\n",
      "        [     0.0000]], grad_fn=<MeanBackward1>)\n",
      "Variance:\n",
      " tensor([[1.0000],\n",
      "        [1.0000]], grad_fn=<VarBackward0>)\n"
     ]
    }
   ],
   "source": [
    "ln = LayerNorm(emb_dim=5)\n",
    "out_ln = ln(batch_example)\n",
    "mean = out_ln.mean(dim=-1, keepdim=True)\n",
    "var = out_ln.var(dim=-1, keepdim=True, unbiased=False)\n",
    "print(\"Mean:\\n\", mean)\n",
    "print(\"Variance:\\n\", var)"
   ]
  },
  {
   "cell_type": "code",
   "execution_count": null,
   "id": "862ea4f3",
   "metadata": {},
   "outputs": [],
   "source": []
  }
 ],
 "metadata": {
  "kernelspec": {
   "display_name": "venv",
   "language": "python",
   "name": "python3"
  },
  "language_info": {
   "codemirror_mode": {
    "name": "ipython",
    "version": 3
   },
   "file_extension": ".py",
   "mimetype": "text/x-python",
   "name": "python",
   "nbconvert_exporter": "python",
   "pygments_lexer": "ipython3",
   "version": "3.12.0"
  }
 },
 "nbformat": 4,
 "nbformat_minor": 5
}
