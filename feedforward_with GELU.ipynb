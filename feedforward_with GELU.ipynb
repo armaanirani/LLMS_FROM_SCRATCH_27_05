{
 "cells": [
  {
   "cell_type": "markdown",
   "id": "908cdb61",
   "metadata": {},
   "source": [
    "### GPT architecture part 3: Feedforward NN with GELU"
   ]
  },
  {
   "cell_type": "code",
   "execution_count": 4,
   "id": "6b1d9880",
   "metadata": {},
   "outputs": [],
   "source": [
    "import torch\n",
    "import torch.nn as nn\n",
    "\n",
    "class GELU(nn.Module):\n",
    "    def __init__(self):\n",
    "        super().__init__()\n",
    "        \n",
    "    def forward(self, x):\n",
    "        return 0.5 * x * (1 + torch.tanh(torch.sqrt(torch.tensor(2.0 / torch.pi)) * (x + 0.044715 * torch.pow(x, 3))))"
   ]
  },
  {
   "cell_type": "code",
   "execution_count": 5,
   "id": "b63b7b06",
   "metadata": {},
   "outputs": [],
   "source": [
    "### To get an idea of what GELU function looks like and how it compares to the ReLU function, we'll plot the functions\n",
    "### side by side."
   ]
  },
  {
   "cell_type": "code",
   "execution_count": 6,
   "id": "08642f5c",
   "metadata": {},
   "outputs": [
    {
     "data": {
      "image/png": "[encoded data removed]",
      "text/plain": [
       "<Figure size 800x300 with 2 Axes>"
      ]
     },
     "metadata": {},
     "output_type": "display_data"
    }
   ],
   "source": [
    "import matplotlib.pyplot as plt\n",
    "\n",
    "gelu, relu = GELU(), nn.ReLU()\n",
    "\n",
    "# Some sample data\n",
    "x = torch.linspace(-3, 3, 100)\n",
    "y_gelu, y_relu = gelu(x), relu(x)\n",
    "\n",
    "plt.figure(figsize=(8, 3))\n",
    "for i, (y, label) in enumerate(zip([y_gelu, y_relu], [\"GELU\", \"ReLU\"]), 1):\n",
    "    plt.subplot(1, 2, i)\n",
    "    plt.plot(x, y)\n",
    "    plt.title(f\"{label} activation function\")\n",
    "    plt.xlabel(\"X\")\n",
    "    plt.ylabel(f\"{label}(x)\")\n",
    "    plt.grid(True)\n",
    "\n",
    "plt.tight_layout()\n",
    "plt.show()"
   ]
  },
  {
   "cell_type": "code",
   "execution_count": 7,
   "id": "bf52c029",
   "metadata": {},
   "outputs": [],
   "source": [
    "### As we can see in the plot, ReLU is a piecewise linear function that outputs the input directly if it is positive,\n",
    "### otherwise, it outputs zero.\n",
    "### GELU is a smooth, nonlinear function that approximates ReLU but with a non-zero gradient for negative values."
   ]
  },
  {
   "cell_type": "code",
   "execution_count": 9,
   "id": "e8625c9e",
   "metadata": {},
   "outputs": [],
   "source": [
    "### The smoothness of GELU can lead to better optimization properties during training, as it allows for more nuanced adjustments\n",
    "### to the model's parameters.\n",
    "### In contrast, ReLU has a sharp corner at zero, which can sometimes make optimization harder especially in networks that are\n",
    "### very deep or have complex architectures.\n",
    "### Moreover, unlike ReLU which outputs zero for any negative input, GELU allows for small, non-zero output for negative values.\n",
    "### This characteristic means that during the training process, neurons that receive negative input can still contribute to the \n",
    "### learning process, albeit to a lesser extent than positive inputs. (avoids the dead neuron problem)"
   ]
  },
  {
   "cell_type": "code",
   "execution_count": 11,
   "id": "da862f9a",
   "metadata": {},
   "outputs": [],
   "source": [
    "GPT_CONFIG_124M = {\n",
    "    \"vocab_size\": 50257,    # Vocabulary size\n",
    "    \"context_length\": 1024, # Context length\n",
    "    \"emb_dim\": 768,         # Embedding dimension\n",
    "    \"n_heads\": 12,          # Number of attention heads\n",
    "    \"n_layers\": 12,         # Number of layers\n",
    "    \"drop_rate\": 0.1,       # Dropout rate\n",
    "    \"qkv_bias\": False       # Query-key-value bias\n",
    "}"
   ]
  },
  {
   "cell_type": "code",
   "execution_count": null,
   "id": "7ac9c4be",
   "metadata": {},
   "outputs": [],
   "source": [
    "class FeedForward(nn.Module):\n",
    "    def __init__(self, cfg):\n",
    "        super().__init__()\n",
    "        self.layers = nn.Sequential(\n",
    "            nn.Linear(cfg[\"emb_dim\"], 4 * cfg[\"emb_dim\"]),  # Expansion\n",
    "            GELU(), # Activation\n",
    "            nn.Linear(4 * cfg[\"emb_dim\"], cfg[\"emb_dim\"]),  # Contraction\n",
    "        )\n",
    "    \n",
    "    def forward(self, x):\n",
    "        return self.layers(x)"
   ]
  },
  {
   "cell_type": "code",
   "execution_count": 12,
   "id": "3ffecc50",
   "metadata": {},
   "outputs": [
    {
     "name": "stdout",
     "output_type": "stream",
     "text": [
      "768\n"
     ]
    }
   ],
   "source": [
    "print(GPT_CONFIG_124M[\"emb_dim\"])"
   ]
  },
  {
   "cell_type": "code",
   "execution_count": 13,
   "id": "713a37b9",
   "metadata": {},
   "outputs": [],
   "source": [
    "### The FeedForward module is a small neural network consisting of two linear layers and a GELU activation function.\n",
    "### In the 124 million parameter GPT model, it receives the input batches with tokens that have an embedding size of 768 each"
   ]
  },
  {
   "cell_type": "code",
   "execution_count": 14,
   "id": "1d915ebf",
   "metadata": {},
   "outputs": [
    {
     "name": "stdout",
     "output_type": "stream",
     "text": [
      "torch.Size([2, 3, 768])\n"
     ]
    }
   ],
   "source": [
    "ffn = FeedForward(GPT_CONFIG_124M)\n",
    "x = torch.rand(2, 3, 768)\n",
    "out = ffn(x)\n",
    "print(out.shape)"
   ]
  },
  {
   "cell_type": "code",
   "execution_count": 15,
   "id": "fbdb53ae",
   "metadata": {},
   "outputs": [],
   "source": [
    "### the feed forward module we implemented in this section plays a crucial role in enhancing the model's ability to learn from\n",
    "### and generalize the data.\n",
    "### although the input and output dimensions of the module are the same, it internally expands the embedding dimension into a higher\n",
    "### dimensional space through the first linear layer.\n",
    "### this expansion is followed by a non linear GELU activation, and then a contraction back to the original dimension with the \n",
    "### second linear transformation.\n",
    "### Such a design allows for the exploration of a richer representation space."
   ]
  },
  {
   "cell_type": "code",
   "execution_count": 16,
   "id": "ec8c9a78",
   "metadata": {},
   "outputs": [],
   "source": [
    "### Moreover, the uniformity in input and output dimensions simplifies the architecture by enabling the stacking of multiple\n",
    "### layers, as we will do later without the need to adjust dimensions between them, thus making the model more scalable."
   ]
  },
  {
   "cell_type": "code",
   "execution_count": null,
   "id": "911935b4",
   "metadata": {},
   "outputs": [],
   "source": []
  }
 ],
 "metadata": {
  "kernelspec": {
   "display_name": "venv",
   "language": "python",
   "name": "python3"
  },
  "language_info": {
   "codemirror_mode": {
    "name": "ipython",
    "version": 3
   },
   "file_extension": ".py",
   "mimetype": "text/x-python",
   "name": "python",
   "nbconvert_exporter": "python",
   "pygments_lexer": "ipython3",
   "version": "3.12.0"
  }
 },
 "nbformat": 4,
 "nbformat_minor": 5
}
