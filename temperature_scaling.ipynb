{
 "cells": [
  {
   "cell_type": "markdown",
   "id": "e553d640",
   "metadata": {},
   "source": [
    "### Decoding strategy 1: Temperature scaling"
   ]
  },
  {
   "cell_type": "code",
   "execution_count": 15,
   "id": "e6afb22a",
   "metadata": {},
   "outputs": [],
   "source": [
    "### Previously, inside the generate_text_simple_function, we always sampled the token with the highest probability as the next\n",
    "### token using torch.argmax, also known as greedy decoding.\n",
    "### To generate text with more variety, we can replace the argmax with a function that samples from a probability distribution"
   ]
  },
  {
   "cell_type": "code",
   "execution_count": 3,
   "id": "8d457359",
   "metadata": {},
   "outputs": [],
   "source": [
    "import torch\n",
    "\n",
    "vocab = {\n",
    "    \"closer\": 0,\n",
    "    \"every\": 1,\n",
    "    \"effort\": 2,\n",
    "    \"forward\": 3,\n",
    "    \"inches\": 4,\n",
    "    \"moves\": 5,\n",
    "    \"pizza\": 6,\n",
    "    \"towards\": 7,\n",
    "    \"you\": 8\n",
    "}\n",
    "\n",
    "inverse_vocab = {v: k for k, v in vocab.items()}"
   ]
  },
  {
   "cell_type": "code",
   "execution_count": null,
   "id": "0d7cf7c2",
   "metadata": {},
   "outputs": [],
   "source": [
    "# Assume the LLM is given the start context \"every effort moves you\" and generates the following next output logits\n",
    "next_token_logits = torch.tensor(\n",
    "    [4.51, 0.89, -1.90, 6.75, 1.63, -1.62, -1.89, 6.28, 1.79]\n",
    ")"
   ]
  },
  {
   "cell_type": "code",
   "execution_count": 5,
   "id": "ae530cd8",
   "metadata": {},
   "outputs": [
    {
     "name": "stdout",
     "output_type": "stream",
     "text": [
      "tensor([6.0907e-02, 1.6313e-03, 1.0019e-04, 5.7212e-01, 3.4190e-03, 1.3257e-04,\n",
      "        1.0120e-04, 3.5758e-01, 4.0122e-03])\n",
      "3\n",
      "forward\n"
     ]
    }
   ],
   "source": [
    "probas = torch.softmax(next_token_logits, dim=0)\n",
    "print(probas)\n",
    "next_token_id = torch.argmax(probas).item()\n",
    "print(next_token_id)\n",
    "print(inverse_vocab[next_token_id])"
   ]
  },
  {
   "cell_type": "code",
   "execution_count": null,
   "id": "2ce53ea8",
   "metadata": {},
   "outputs": [],
   "source": [
    "### To implement a probabilistic sampling process, we can now replace the argmax with thr multinomial function in pytorch"
   ]
  },
  {
   "cell_type": "code",
   "execution_count": 7,
   "id": "ee95b4c2",
   "metadata": {},
   "outputs": [
    {
     "name": "stdout",
     "output_type": "stream",
     "text": [
      "forward\n"
     ]
    }
   ],
   "source": [
    "torch.manual_seed(123)\n",
    "next_token_id = torch.multinomial(probas, num_samples=1).item()\n",
    "print(inverse_vocab[next_token_id])"
   ]
  },
  {
   "cell_type": "code",
   "execution_count": 8,
   "id": "f96574af",
   "metadata": {},
   "outputs": [],
   "source": [
    "### The multinomial function samples the next token proportional to its probability score, in other words, \"forward\" is still the \n",
    "### most likely token and will be selected by multinomial most of the time but not all the time.\n",
    "### To illustrate this, lets implement a function that repeats this sampling 1000 times."
   ]
  },
  {
   "cell_type": "code",
   "execution_count": 9,
   "id": "6ce571f4",
   "metadata": {},
   "outputs": [
    {
     "name": "stdout",
     "output_type": "stream",
     "text": [
      "73 x closer\n",
      "0 x every\n",
      "0 x effort\n",
      "582 x forward\n",
      "2 x inches\n",
      "0 x moves\n",
      "0 x pizza\n",
      "343 x towards\n"
     ]
    }
   ],
   "source": [
    "def print_sampled_tokens(probas):\n",
    "    torch.manual_seed(123)\n",
    "    sample = [torch.multinomial(probas, num_samples=1).item() for i in range(1_000)]\n",
    "    sampled_ids = torch.bincount(torch.tensor(sample))\n",
    "    for i, freq in enumerate(sampled_ids):\n",
    "        print(f\"{freq} x {inverse_vocab[i]}\")\n",
    "\n",
    "print_sampled_tokens(probas)"
   ]
  },
  {
   "cell_type": "code",
   "execution_count": 10,
   "id": "8d64601d",
   "metadata": {},
   "outputs": [],
   "source": [
    "### As we can see, the word \"forward\" is sampled most of the time, but other tokens like \"closer\", \"inches\", \"towards\" will also\n",
    "### be sampled some of the time.\n",
    "### This means that if we replaced the argmax function with the multinomial function inside the generate_and_print_sample \n",
    "### function, the LLM would sometimes generate texts such as \"ever effort moves you toward\", \"every effort moves you inches\",\n",
    "### \"every effort moves you closer\" instead of \"every effort moves you forward\"."
   ]
  },
  {
   "cell_type": "code",
   "execution_count": 11,
   "id": "218e192d",
   "metadata": {},
   "outputs": [],
   "source": [
    "### We can further control the distribution and selection process via a concept called temperature scaling, where temperature\n",
    "### scaling is just a fancy description for dividing the logits by a number greater than 0.\n",
    "### Temperature greater than 1, results in more uniformly distributed token probabilities, and temperature smaller than 1, \n",
    "### will result in more confident distributions."
   ]
  },
  {
   "cell_type": "code",
   "execution_count": 12,
   "id": "de96728a",
   "metadata": {},
   "outputs": [],
   "source": [
    "def softmax_with_temperature(logits, temperature):\n",
    "    scaled_logits = logits / temperature\n",
    "    return torch.softmax(scaled_logits, dim=0)\n",
    "\n",
    "# Temperature values \n",
    "temperatures = [1, 0.1, 5]   # Original, higher confidence, lower confidence\n",
    "\n",
    "# Calculate scaled probabilities\n",
    "scaled_probas = [softmax_with_temperature(next_token_logits, T) for T in temperatures]"
   ]
  },
  {
   "cell_type": "code",
   "execution_count": 13,
   "id": "c058f9df",
   "metadata": {},
   "outputs": [
    {
     "data": {
      "image/png": "[encoded data removed]",
      "text/plain": [
       "<Figure size 500x300 with 1 Axes>"
      ]
     },
     "metadata": {},
     "output_type": "display_data"
    }
   ],
   "source": [
    "import matplotlib.pyplot as plt\n",
    "\n",
    "# Plotting\n",
    "x = torch.arange(len(vocab))\n",
    "bar_width = 0.15\n",
    "\n",
    "fig, ax = plt.subplots(figsize=(5, 3))\n",
    "for i, T in enumerate(temperatures):\n",
    "    rects = ax.bar(x + i * bar_width, scaled_probas[i], bar_width, label=f'Temperature = {T}')\n",
    "    \n",
    "ax.set_ylabel(\"Probability\")\n",
    "ax.set_xticks(x)\n",
    "ax.set_xticklabels(vocab.keys(), rotation=90)\n",
    "ax.legend()\n",
    "\n",
    "plt.tight_layout()\n",
    "plt.savefig(\"temperature-plot.pdf\")\n",
    "plt.show()"
   ]
  },
  {
   "cell_type": "code",
   "execution_count": 14,
   "id": "3bcd6e79",
   "metadata": {},
   "outputs": [],
   "source": [
    "### Applying very small temperatures such as 0.1 will result in sharper distributions such that the behavior of the multinomial\n",
    "### function the selects the most likely token almost 100% of the time, approaching the behavior of the argmax function.\n",
    "### Vice versa, a temperature of 5 results in a more uniform distribution where other tokens are selected more often.\n",
    "### This can add more variety to the generated texts but also more often results in nonsensical text."
   ]
  },
  {
   "cell_type": "code",
   "execution_count": null,
   "id": "ea5e0b89",
   "metadata": {},
   "outputs": [],
   "source": []
  }
 ],
 "metadata": {
  "kernelspec": {
   "display_name": "venv",
   "language": "python",
   "name": "python3"
  },
  "language_info": {
   "codemirror_mode": {
    "name": "ipython",
    "version": 3
   },
   "file_extension": ".py",
   "mimetype": "text/x-python",
   "name": "python",
   "nbconvert_exporter": "python",
   "pygments_lexer": "ipython3",
   "version": "3.12.0"
  }
 },
 "nbformat": 4,
 "nbformat_minor": 5
}
